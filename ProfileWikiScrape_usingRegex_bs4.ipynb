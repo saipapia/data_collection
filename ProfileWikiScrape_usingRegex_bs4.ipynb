{
 "cells": [
  {
   "cell_type": "code",
   "execution_count": 1,
   "id": "2ccf9bf5",
   "metadata": {},
   "outputs": [],
   "source": [
    "import re"
   ]
  },
  {
   "cell_type": "code",
   "execution_count": 2,
   "id": "d1ddeea7",
   "metadata": {},
   "outputs": [],
   "source": [
    "import requests\n",
    "import bs4\n",
    "from bs4 import BeautifulSoup\n",
    "import unicodedata"
   ]
  },
  {
   "cell_type": "code",
   "execution_count": 3,
   "id": "e41080e5",
   "metadata": {},
   "outputs": [],
   "source": [
    "url = 'https://en.wikipedia.org/wiki/Elon_Musk'\n",
    "#url = 'https://en.wikipedia.org/wiki/Dhirubhai_Ambani'"
   ]
  },
  {
   "cell_type": "code",
   "execution_count": 4,
   "id": "c28d8977",
   "metadata": {},
   "outputs": [],
   "source": [
    "#console -> navigator.userAgent to avoid block\n",
    "headers = {\n",
    "    'User-Agent' : 'Mozilla/5.0 (Windows NT 10.0; Win64; x64) AppleWebKit/537.36 (KHTML, like Gecko) Chrome/107.0.0.0 Safari/537.36'\n",
    "}"
   ]
  },
  {
   "cell_type": "code",
   "execution_count": 5,
   "id": "a8a9c123",
   "metadata": {},
   "outputs": [],
   "source": [
    "r = requests.get(url, {'headers':headers})"
   ]
  },
  {
   "cell_type": "code",
   "execution_count": 6,
   "id": "a9d51c56",
   "metadata": {},
   "outputs": [],
   "source": [
    "#print(r.text)"
   ]
  },
  {
   "cell_type": "code",
   "execution_count": 7,
   "id": "1c47e1bb",
   "metadata": {},
   "outputs": [],
   "source": [
    "soup = bs4.BeautifulSoup(r.text, 'html.parser')"
   ]
  },
  {
   "cell_type": "code",
   "execution_count": 8,
   "id": "f8e1f757",
   "metadata": {},
   "outputs": [],
   "source": [
    "#print(soup)"
   ]
  },
  {
   "cell_type": "code",
   "execution_count": 9,
   "id": "3dcf7821",
   "metadata": {},
   "outputs": [],
   "source": [
    "all_t = soup.find_all(\"table\", {\"class\": \"infobox biography vcard\"})\n",
    "#all_t"
   ]
  },
  {
   "cell_type": "code",
   "execution_count": 10,
   "id": "810b916a",
   "metadata": {},
   "outputs": [
    {
     "data": {
      "text/plain": [
       "'[Elon MuskFRSMusk in 2018BornElon Reeve Musk (1971-06-28) June 28, 1971 (age 51)Pretoria, Transvaal, South AfricaEducationUniversity of Pennsylvania (BA, BS)Title.mw-parser-output .plainlist ol,.mw-parser-output .plainlist ul{line-height:inherit;list-style:none;margin:0;padding:0}.mw-parser-output .plainlist ol li,.mw-parser-output .plainlist ul li{margin-bottom:0}\\nFounder, CEO and chief engineer of SpaceX\\nCEO and product architect of Tesla, Inc.\\nCEO of Twitter, Inc.\\nPresident of the Musk Foundation\\nFounder of The Boring Company and X.com (now part of PayPal)\\nCo-founder of Neuralink, OpenAI and Zip2\\nSpousesJustine Wilson\\n\\u200b \\u200b(m. 2000; div. 2008)\\u200bTalulah Riley\\n\\u200b \\u200b(m. 2010; div. 2012)\\u200b \\u200b\\n \\u200b(m. 2013; div. 2016)\\u200bPartnerGrimes (2018–2021)[1]Children10[a][3]ParentsErrol MuskMaye MuskFamilyMusk familyAwardsList of honors and awardsSignature]'"
      ]
     },
     "execution_count": 10,
     "metadata": {},
     "output_type": "execute_result"
    }
   ],
   "source": [
    "text = re.sub(r'<.*?>', '', str(all_t))\n",
    "text = unicodedata.normalize('NFKD', text)\n",
    "text"
   ]
  },
  {
   "cell_type": "code",
   "execution_count": 11,
   "id": "fe9efc83",
   "metadata": {},
   "outputs": [
    {
     "data": {
      "text/plain": [
       "['51']"
      ]
     },
     "execution_count": 11,
     "metadata": {},
     "output_type": "execute_result"
    }
   ],
   "source": [
    "pattern = 'age[a-z]* (\\d{2})'\n",
    "matches = re.findall(pattern, text)\n",
    "matches"
   ]
  },
  {
   "cell_type": "code",
   "execution_count": 12,
   "id": "d857491d",
   "metadata": {},
   "outputs": [
    {
     "data": {
      "text/plain": [
       "['Elon Reeve Musk ']"
      ]
     },
     "execution_count": 12,
     "metadata": {},
     "output_type": "execute_result"
    }
   ],
   "source": [
    "pattern = 'Born([a-zA-Z\\s]+)'\n",
    "matches = re.findall(pattern, text)\n",
    "matches"
   ]
  },
  {
   "cell_type": "code",
   "execution_count": 13,
   "id": "fbac5bec",
   "metadata": {},
   "outputs": [
    {
     "data": {
      "text/plain": [
       "['1971-06-28']"
      ]
     },
     "execution_count": 13,
     "metadata": {},
     "output_type": "execute_result"
    }
   ],
   "source": [
    "pattern = 'Born[a-zA-Z\\s\\(]+(\\d{4}-\\d{2}-\\d{2})'\n",
    "matches = re.findall(pattern, text)\n",
    "matches"
   ]
  },
  {
   "cell_type": "code",
   "execution_count": 14,
   "id": "a72b9ca2",
   "metadata": {},
   "outputs": [],
   "source": [
    "def get_pattern_match(pattern, text):\n",
    "    matches = re.findall(pattern, text)\n",
    "    if matches:\n",
    "        return matches[0]"
   ]
  },
  {
   "cell_type": "code",
   "execution_count": 15,
   "id": "f68fb34a",
   "metadata": {},
   "outputs": [],
   "source": [
    "def get_info(text):\n",
    "    age = get_pattern_match('age[a-z]* (\\d{2})', text)\n",
    "    full_name = get_pattern_match('Born([a-zA-Z\\s]+)', text)\n",
    "    birth_date = get_pattern_match('Born[a-zA-Z\\s\\(]+(\\d{4}-\\d{2}-\\d{2})', text)\n",
    "    #birth_place = get_pattern_match('age.+\\n(.*)', text)\n",
    "    \n",
    "    return {\n",
    "        'age' : age,\n",
    "        'name' : full_name.strip(),\n",
    "        'birth_date' : birth_date.strip(),\n",
    "        #'birth_place' : birth_place.strip()\n",
    "    }"
   ]
  },
  {
   "cell_type": "code",
   "execution_count": 16,
   "id": "27376f28",
   "metadata": {},
   "outputs": [
    {
     "name": "stdout",
     "output_type": "stream",
     "text": [
      "age : 51\n",
      "name : Elon Reeve Musk\n",
      "birth_date : 1971-06-28\n"
     ]
    }
   ],
   "source": [
    "text_info = get_info(text)\n",
    "#[print (key, ':', value) for key, value in text_info.items()]\n",
    "for key, value in text_info.items():\n",
    "    print(key, ':', value)"
   ]
  },
  {
   "cell_type": "code",
   "execution_count": null,
   "id": "75c120a4",
   "metadata": {},
   "outputs": [],
   "source": []
  }
 ],
 "metadata": {
  "kernelspec": {
   "display_name": "Python 3 (ipykernel)",
   "language": "python",
   "name": "python3"
  },
  "language_info": {
   "codemirror_mode": {
    "name": "ipython",
    "version": 3
   },
   "file_extension": ".py",
   "mimetype": "text/x-python",
   "name": "python",
   "nbconvert_exporter": "python",
   "pygments_lexer": "ipython3",
   "version": "3.9.12"
  }
 },
 "nbformat": 4,
 "nbformat_minor": 5
}
