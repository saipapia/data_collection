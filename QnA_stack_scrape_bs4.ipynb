{
 "cells": [
  {
   "cell_type": "code",
   "execution_count": 1,
   "id": "a272c0af",
   "metadata": {},
   "outputs": [],
   "source": [
    "from bs4 import BeautifulSoup\n",
    "from urllib.request import urlopen"
   ]
  },
  {
   "cell_type": "code",
   "execution_count": 2,
   "id": "08e1ed18",
   "metadata": {},
   "outputs": [],
   "source": [
    "#myurl = \"https://stackoverflow.com/questions/415511/how-do-i-get-the-current-time\"\n",
    "myurl = \"https://stackoverflow.com/questions/40990694/how-does-strip-works-in-python\"\n",
    "html = urlopen(myurl).read()"
   ]
  },
  {
   "cell_type": "code",
   "execution_count": 4,
   "id": "251551b2",
   "metadata": {},
   "outputs": [],
   "source": [
    "#print(html)"
   ]
  },
  {
   "cell_type": "code",
   "execution_count": 5,
   "id": "969817aa",
   "metadata": {},
   "outputs": [
    {
     "name": "stdout",
     "output_type": "stream",
     "text": [
      "Question: \n",
      " I tried using .rstrip and .lstrip like so:\n",
      ">>> a = 'thisthat'\n",
      ">>> a.rstrip('hat')\n",
      "'this'\n",
      ">>> a.lstrip('this')\n",
      "'at'\n",
      ">>> a.rstrip('cat')\n",
      "'thisth'\n",
      "\n",
      "What exactly are these methods doing? I expected 'thist' for the first case and 'that' for the second case.\n",
      "I'm not looking to fix the problem, I just want to understand the functionality.\n",
      "\n",
      "See also How do I remove a substring from the end of a string? if you do want to fix a problem with removing something from the beginning or end of a string (or are trying to close such a duplicate question).\n",
      "Answer: \n",
      " From the documentation:\n",
      "\n",
      "str.strip([chars])\n",
      "Return a copy of the string with the leading and trailing characters removed. The chars argument is a string specifying the set of characters to be removed. If omitted or None, the chars argument defaults to removing whitespace. The chars argument is not a prefix or suffix; rather, all combinations of its values are stripped:\n",
      "\n",
      "So, strip will try to remove any of the characters listed in chars from both ends as long as it can. That is, the string provided as an argument is considered as a set of characters, not as a substring.\n",
      "lstrip and rstrip work the same way, except that lstrip only removes characters on the left (at the beginning) and rstrip only removes characters on the right (at the end).\n"
     ]
    }
   ],
   "source": [
    "soup = BeautifulSoup(html, \"html.parser\")\n",
    "question = soup.find(\"div\", {\"class\":\"question\"})\n",
    "question_text1 = question.find(\"div\", {\"class\":\"post-layout\"})\n",
    "question_text2 = question_text1.find(\"div\", {\"class\":\"postcell\"})\n",
    "question_text3 = question_text2.find(\"div\", {\"class\":\"s-prose\"})\n",
    "print(\"Question: \\n\", question_text3.get_text().strip())\n",
    "answer = soup.find(\"div\", {\"class\":\"answer\"})\n",
    "ans1 = answer.find(\"div\", {\"class\":\"post-layout\"})\n",
    "ans2 = ans1.find(\"div\", {\"class\":\"answercell\"})\n",
    "answer_text = ans2.find(\"div\", {\"class\":\"s-prose\"})\n",
    "print(\"Answer: \\n\", answer_text.get_text().strip())"
   ]
  },
  {
   "cell_type": "code",
   "execution_count": null,
   "id": "b01d8656",
   "metadata": {},
   "outputs": [],
   "source": []
  }
 ],
 "metadata": {
  "kernelspec": {
   "display_name": "Python 3 (ipykernel)",
   "language": "python",
   "name": "python3"
  },
  "language_info": {
   "codemirror_mode": {
    "name": "ipython",
    "version": 3
   },
   "file_extension": ".py",
   "mimetype": "text/x-python",
   "name": "python",
   "nbconvert_exporter": "python",
   "pygments_lexer": "ipython3",
   "version": "3.9.12"
  }
 },
 "nbformat": 4,
 "nbformat_minor": 5
}
